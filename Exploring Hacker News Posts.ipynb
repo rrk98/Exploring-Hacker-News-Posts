{
 "cells": [
  {
   "cell_type": "markdown",
   "metadata": {},
   "source": [
    "Hacker News is a site started by the startup incubator Y Combinator, where user-submitted stories (known as \"posts\") are voted and commented upon, similar to reddit. Hacker News is extremely popular in technology and startup circles, and posts that make it to the top of Hacker News' listings can get hundreds of thousands of visitors as a result."
   ]
  },
  {
   "cell_type": "markdown",
   "metadata": {},
   "source": [
    "Below are descriptions of the columns:\n",
    "\n",
    "id: The unique identifier from Hacker News for the post\n",
    "title: The title of the post\n",
    "url: The URL that the posts links to, if the post has a URL\n",
    "num_points: The number of points the post acquired, calculated as the total number of upvotes minus the total number of downvotes\n",
    "num_comments: The number of comments that were made on the post\n",
    "author: The username of the person who submitted the post\n",
    "created_at: The date and time at which the post was submitted"
   ]
  },
  {
   "cell_type": "markdown",
   "metadata": {},
   "source": [
    "We're specifically interested in posts whose titles begin with either Ask HN or Show HN. Users submit Ask HN posts to ask the Hacker News community a specific question.\n",
    "\n",
    "We'll compare these two types of posts to determine the following:\n",
    "\n",
    "Do Ask HN or Show HN receive more comments on average?\n",
    "Do posts created at a certain time receive more comments on average?"
   ]
  },
  {
   "cell_type": "code",
   "execution_count": 1,
   "metadata": {},
   "outputs": [],
   "source": [
    "from csv import reader\n",
    "opened_file=open('hacker_news.csv',encoding=\"utf8\")\n",
    "read_file=reader(opened_file)\n",
    "hn=list(read_file)"
   ]
  },
  {
   "cell_type": "code",
   "execution_count": 2,
   "metadata": {},
   "outputs": [
    {
     "name": "stdout",
     "output_type": "stream",
     "text": [
      "[['id', 'title', 'url', 'num_points', 'num_comments', 'author', 'created_at'], ['12224879', 'Interactive Dynamic Video', 'http://www.interactivedynamicvideo.com/', '386', '52', 'ne0phyte', '8/4/2016 11:52'], ['10975351', 'How to Use Open Source and Shut the Fuck Up at the Same Time', 'http://hueniverse.com/2016/01/26/how-to-use-open-source-and-shut-the-fuck-up-at-the-same-time/', '39', '10', 'josep2', '1/26/2016 19:30'], ['11964716', \"Florida DJs May Face Felony for April Fools' Water Joke\", 'http://www.thewire.com/entertainment/2013/04/florida-djs-april-fools-water-joke/63798/', '2', '1', 'vezycash', '6/23/2016 22:20'], ['11919867', 'Technology ventures: From Idea to Enterprise', 'https://www.amazon.com/Technology-Ventures-Enterprise-Thomas-Byers/dp/0073523429', '3', '1', 'hswarna', '6/17/2016 0:01']]\n"
     ]
    }
   ],
   "source": [
    "print(hn[:5])"
   ]
  },
  {
   "cell_type": "markdown",
   "metadata": {},
   "source": [
    "extracting data and headers:"
   ]
  },
  {
   "cell_type": "code",
   "execution_count": 3,
   "metadata": {},
   "outputs": [
    {
     "name": "stdout",
     "output_type": "stream",
     "text": [
      "['id', 'title', 'url', 'num_points', 'num_comments', 'author', 'created_at']\n",
      "[['12224879', 'Interactive Dynamic Video', 'http://www.interactivedynamicvideo.com/', '386', '52', 'ne0phyte', '8/4/2016 11:52'], ['10975351', 'How to Use Open Source and Shut the Fuck Up at the Same Time', 'http://hueniverse.com/2016/01/26/how-to-use-open-source-and-shut-the-fuck-up-at-the-same-time/', '39', '10', 'josep2', '1/26/2016 19:30'], ['11964716', \"Florida DJs May Face Felony for April Fools' Water Joke\", 'http://www.thewire.com/entertainment/2013/04/florida-djs-april-fools-water-joke/63798/', '2', '1', 'vezycash', '6/23/2016 22:20'], ['11919867', 'Technology ventures: From Idea to Enterprise', 'https://www.amazon.com/Technology-Ventures-Enterprise-Thomas-Byers/dp/0073523429', '3', '1', 'hswarna', '6/17/2016 0:01'], ['10301696', 'Note by Note: The Making of Steinway L1037 (2007)', 'http://www.nytimes.com/2007/11/07/movies/07stein.html?_r=0', '8', '2', 'walterbell', '9/30/2015 4:12']]\n"
     ]
    }
   ],
   "source": [
    "headers=hn[0]\n",
    "hn=hn[1:]\n",
    "print(headers)\n",
    "print(hn[:5])"
   ]
  },
  {
   "cell_type": "markdown",
   "metadata": {},
   "source": [
    "separating the posts on the basis of the title starting with Ask HN or Show HN:"
   ]
  },
  {
   "cell_type": "code",
   "execution_count": 4,
   "metadata": {},
   "outputs": [
    {
     "name": "stdout",
     "output_type": "stream",
     "text": [
      "Number of posts that start with 'Ask HN':  1744\n",
      "Number of posts that start with 'Show HN':  1162\n",
      "Number of posts that don't start with either of the 2 phrases:  17194\n"
     ]
    }
   ],
   "source": [
    "ask_posts=[]\n",
    "show_posts=[]\n",
    "other_posts=[]\n",
    "for post in hn:\n",
    "    title=post[1]\n",
    "    lc_title=title.lower()\n",
    "    if lc_title.startswith('ask hn'):\n",
    "        ask_posts.append(post)\n",
    "    elif lc_title.startswith('show hn'):\n",
    "        show_posts.append(post)\n",
    "    else:\n",
    "        other_posts.append(post)\n",
    "print(\"Number of posts that start with 'Ask HN': \",len(ask_posts))\n",
    "print(\"Number of posts that start with 'Show HN': \",len(show_posts))\n",
    "print(\"Number of posts that don't start with either of the 2 phrases: \",len(other_posts))"
   ]
  },
  {
   "cell_type": "markdown",
   "metadata": {},
   "source": [
    "Computing average number of points on each category of posts on HN:"
   ]
  },
  {
   "cell_type": "code",
   "execution_count": 19,
   "metadata": {},
   "outputs": [
    {
     "name": "stdout",
     "output_type": "stream",
     "text": [
      "Average number of points in an Ask HN post:  15.061926605504587\n",
      "Average number of points in an Show HN post:  27.555077452667813\n",
      "Average number of points in posts other than Ask HN or Show HN posts:  55.4067698034198\n"
     ]
    }
   ],
   "source": [
    "total_ask_points=0\n",
    "for post in ask_posts:\n",
    "    post_point=int(post[3])\n",
    "    total_ask_points+=post_point\n",
    "avg_ask_points=total_ask_points/len(ask_posts)\n",
    "print(\"Average number of points in an Ask HN post: \",avg_ask_points)\n",
    "\n",
    "total_show_points=0\n",
    "for post in show_posts:\n",
    "    post_point=int(post[3])\n",
    "    total_show_points+=post_point\n",
    "avg_show_points=total_show_points/len(show_posts)\n",
    "print(\"Average number of points in an Show HN post: \",avg_show_points)\n",
    "\n",
    "total_other_points=0\n",
    "for post in other_posts:\n",
    "    post_point=int(post[3])\n",
    "    total_other_points+=post_point\n",
    "avg_other_points=total_other_points/len(other_posts)\n",
    "print(\"Average number of points in posts other than Ask HN or Show HN posts: \",avg_other_points)"
   ]
  },
  {
   "cell_type": "code",
   "execution_count": 20,
   "metadata": {},
   "outputs": [
    {
     "name": "stdout",
     "output_type": "stream",
     "text": [
      "[[52.887139107611546, '11'], [54.17117903930131, '19'], [46.224, '22'], [53.57532281205165, '00'], [44.25806451612903, '04'], [48.74220032840722, '09'], [49.77803379416282, '16'], [49.77272727272727, '18'], [54.439617723718506, '14'], [54.70699708454811, '10'], [52.66738894907909, '12'], [56.168784029038115, '13'], [42.043767840152235, '20'], [49.631147540983605, '03'], [53.03891336270191, '17'], [45.41326530612245, '01'], [47.782776349614394, '23'], [48.207612456747405, '08'], [50.886578449905485, '02'], [44.40388349514563, '21'], [55.649108589951375, '15'], [42.37179487179487, '06'], [51.803149606299215, '07'], [44.24503311258278, '05']]\n",
      "Top 5 Hours for Posts points:\n",
      "13:00: 56.17 average points per post\n",
      "15:00: 55.65 average points per post\n",
      "10:00: 54.71 average points per post\n",
      "14:00: 54.44 average points per post\n",
      "19:00: 54.17 average points per post\n"
     ]
    }
   ],
   "source": [
    "import datetime as dt\n",
    "result_list=[]\n",
    "for post in hn:\n",
    "    created_at=post[6]\n",
    "    number_of_points=int(post[3])\n",
    "    result_list.append([created_at,number_of_points])\n",
    "\n",
    "counts_by_hour={}\n",
    "points_by_hour={}\n",
    "for simplified_post in result_list:\n",
    "    hr = (dt.datetime.strptime(simplified_post[0],\"%m/%d/%Y %H:%M\")).strftime(\"%H\")\n",
    "    if hr in counts_by_hour:\n",
    "        counts_by_hour[hr]+=1\n",
    "        points_by_hour[hr]+=simplified_post[1]\n",
    "    else:\n",
    "        counts_by_hour[hr]=1\n",
    "        points_by_hour[hr]=simplified_post[1]\n",
    "\n",
    "avg_by_hour=[]\n",
    "for hr in counts_by_hour:\n",
    "    avg_points=points_by_hour[hr]/counts_by_hour[hr]\n",
    "    avg_by_hour.append([hr,avg_points])\n",
    "# print(avg_by_hour)\n",
    "\n",
    "swap_avg_by_hour=[]\n",
    "for data in avg_by_hour:\n",
    "    swap_avg_by_hour.append([data[1],data[0]])\n",
    "print(swap_avg_by_hour)\n",
    "\n",
    "sorted_swap=sorted(swap_avg_by_hour,reverse=True)\n",
    "print(\"Top 5 Hours for Posts points:\")\n",
    "message_template=\"{hour}: {avg_point:.2f} average points per post\"\n",
    "\n",
    "for hour_points in sorted_swap[:5]:\n",
    "    hour_minute=(datetime.strptime(hour_points[1],\"%H\")).strftime(\"%H:%M\")\n",
    "    print(message_template.format(hour=hour_minute,avg_point=hour_points[0]))"
   ]
  },
  {
   "cell_type": "markdown",
   "metadata": {},
   "source": [
    "Computing average number of comments on each category of posts on HN:"
   ]
  },
  {
   "cell_type": "code",
   "execution_count": 18,
   "metadata": {},
   "outputs": [
    {
     "name": "stdout",
     "output_type": "stream",
     "text": [
      "Average number of comments in an Ask HN post:  14.038417431192661\n",
      "Average number of comments in an Show HN post:  10.31669535283993\n",
      "Average number of comments in posts other than Ask HN or Show HN posts:  26.8730371059672\n"
     ]
    }
   ],
   "source": [
    "total_ask_comments=0\n",
    "for post in ask_posts:\n",
    "    post_comment=int(post[4])\n",
    "    total_ask_comments+=post_comment\n",
    "avg_ask_comments=total_ask_comments/len(ask_posts)\n",
    "print(\"Average number of comments in an Ask HN post: \",avg_ask_comments)\n",
    "\n",
    "total_show_comments=0\n",
    "for post in show_posts:\n",
    "    post_comment=int(post[4])\n",
    "    total_show_comments+=post_comment\n",
    "avg_show_comments=total_show_comments/len(show_posts)\n",
    "print(\"Average number of comments in an Show HN post: \",avg_show_comments)\n",
    "\n",
    "total_other_comments=0\n",
    "for post in other_posts:\n",
    "    post_comment=int(post[4])\n",
    "    total_other_comments+=post_comment\n",
    "avg_other_comments=total_other_comments/len(other_posts)\n",
    "print(\"Average number of comments in posts other than Ask HN or Show HN posts: \",avg_other_comments)"
   ]
  },
  {
   "cell_type": "markdown",
   "metadata": {},
   "source": [
    "An Ask HN post recieves more comments than a Show HN post on an average. Therefore let us focus on 'Ask HN' posts"
   ]
  },
  {
   "cell_type": "code",
   "execution_count": 12,
   "metadata": {},
   "outputs": [
    {
     "name": "stdout",
     "output_type": "stream",
     "text": [
      "[[5.5777777777777775, '09'], [14.741176470588234, '13'], [13.440677966101696, '10'], [13.233644859813085, '14'], [16.796296296296298, '16'], [7.985294117647059, '23'], [9.41095890410959, '12'], [11.46, '17'], [38.5948275862069, '15'], [16.009174311926607, '21'], [21.525, '20'], [23.810344827586206, '02'], [13.20183486238532, '18'], [7.796296296296297, '03'], [10.08695652173913, '05'], [10.8, '19'], [11.383333333333333, '01'], [6.746478873239437, '22'], [10.25, '08'], [7.170212765957447, '04'], [8.127272727272727, '00'], [9.022727272727273, '06'], [7.852941176470588, '07'], [11.051724137931034, '11']]\n",
      "24\n",
      "Top 5 Hours for Ask Posts Comments:\n",
      "15:00: 38.59 average comments per post\n",
      "02:00: 23.81 average comments per post\n",
      "20:00: 21.52 average comments per post\n",
      "16:00: 16.80 average comments per post\n",
      "21:00: 16.01 average comments per post\n"
     ]
    }
   ],
   "source": [
    "# from datetime import datetime\n",
    "# askpost_comments_and_numbers_by_hour={}\n",
    "# for post in ask_posts:\n",
    "#     post_datetime_creation_string=post[6]\n",
    "#     number_of_comments_in_post=int(post[4])\n",
    "#     post_datetime_creation_obj=datetime.strptime(post_datetime_creation_string,\"%m/%d/%Y %H:%M\")\n",
    "#     hr=post_datetime_creation_obj.strftime(\"%H\")\n",
    "#     if hr in askpost_comments_and_numbers_by_hour:\n",
    "#         askpost_comments_and_numbers_by_hour[hr][0]+=number_of_comments_in_post \n",
    "#         askpost_comments_and_numbers_by_hour[hr][1]+=1\n",
    "#     else:\n",
    "#         comments_and_number_of_post=[]\n",
    "#         comments_and_number_of_post.append(number_of_comments_in_post)\n",
    "#         comments_and_number_of_post.append(1) #one post added, so add 1 as the number of posts encountered\n",
    "#         askpost_comments_and_numbers_by_hour[hr]=comments_and_number_of_post\n",
    "\n",
    "# swap_askpost_hourly_numbers=[]\n",
    "# for hour in askpost_comments_and_numbers_by_hour:\n",
    "#     avg_comment_number_in_hour=askpost_comments_and_numbers_by_hour[hour][0]/askpost_comments_and_numbers_by_hour[hour][1]\n",
    "#     swap_askpost_hourly_numbers.append([avg_comment_number_in_hour,hour])\n",
    "# print(swap_askpost_hourly_numbers)\n",
    "# print(len(swap_askpost_hourly_numbers))\n",
    "\n",
    "# decreasing_order_avg_comments_by_hour=sorted(swap_askpost_hourly_numbers,reverse=True)\n",
    "\n",
    "# message_template=\"{hour}: {avg_comment:.2f} average comments per post\"\n",
    "\n",
    "# print(\"Top 5 Hours for Ask Posts Comments:\")\n",
    "# for hour_comments in decreasing_order_avg_comments_by_hour[:5]:\n",
    "#     hour_minute=(datetime.strptime(hour_comments[1],\"%H\")).strftime(\"%H:%M\")\n",
    "#     print(message_template.format(hour=hour_minute,avg_comment=hour_comments[0]))\n",
    "    \n",
    "        "
   ]
  },
  {
   "cell_type": "markdown",
   "metadata": {},
   "source": [
    "__Alternative Implementation__"
   ]
  },
  {
   "cell_type": "code",
   "execution_count": 17,
   "metadata": {},
   "outputs": [
    {
     "name": "stdout",
     "output_type": "stream",
     "text": [
      "[[5.5777777777777775, '09'], [14.741176470588234, '13'], [13.440677966101696, '10'], [13.233644859813085, '14'], [16.796296296296298, '16'], [7.985294117647059, '23'], [9.41095890410959, '12'], [11.46, '17'], [38.5948275862069, '15'], [16.009174311926607, '21'], [21.525, '20'], [23.810344827586206, '02'], [13.20183486238532, '18'], [7.796296296296297, '03'], [10.08695652173913, '05'], [10.8, '19'], [11.383333333333333, '01'], [6.746478873239437, '22'], [10.25, '08'], [7.170212765957447, '04'], [8.127272727272727, '00'], [9.022727272727273, '06'], [7.852941176470588, '07'], [11.051724137931034, '11']]\n",
      "Top 5 Hours for Ask Posts Comments:\n",
      "15:00: 38.59 average comments per post\n",
      "02:00: 23.81 average comments per post\n",
      "20:00: 21.52 average comments per post\n",
      "16:00: 16.80 average comments per post\n",
      "21:00: 16.01 average comments per post\n"
     ]
    }
   ],
   "source": [
    "import datetime as dt\n",
    "result_list=[]\n",
    "for post in ask_posts:\n",
    "    created_at=post[6]\n",
    "    number_of_comments=int(post[4])\n",
    "    result_list.append([created_at,number_of_comments])\n",
    "\n",
    "counts_by_hour={}\n",
    "comments_by_hour={}\n",
    "for simplified_post in result_list:\n",
    "    hr = (dt.datetime.strptime(simplified_post[0],\"%m/%d/%Y %H:%M\")).strftime(\"%H\")\n",
    "    if hr in counts_by_hour:\n",
    "        counts_by_hour[hr]+=1\n",
    "        comments_by_hour[hr]+=simplified_post[1]\n",
    "    else:\n",
    "        counts_by_hour[hr]=1\n",
    "        comments_by_hour[hr]=simplified_post[1]\n",
    "\n",
    "avg_by_hour=[]\n",
    "for hr in counts_by_hour:\n",
    "    avg_comments=comments_by_hour[hr]/counts_by_hour[hr]\n",
    "    avg_by_hour.append([hr,avg_comments])\n",
    "# print(avg_by_hour)\n",
    "\n",
    "swap_avg_by_hour=[]\n",
    "for data in avg_by_hour:\n",
    "    swap_avg_by_hour.append([data[1],data[0]])\n",
    "print(swap_avg_by_hour)\n",
    "\n",
    "sorted_swap=sorted(swap_avg_by_hour,reverse=True)\n",
    "print(\"Top 5 Hours for Ask Posts Comments:\")\n",
    "message_template=\"{hour}: {avg_comment:.2f} average comments per post\"\n",
    "\n",
    "for hour_comments in sorted_swap[:5]:\n",
    "    hour_minute=(datetime.strptime(hour_comments[1],\"%H\")).strftime(\"%H:%M\")\n",
    "    print(message_template.format(hour=hour_minute,avg_comment=hour_comments[0]))"
   ]
  }
 ],
 "metadata": {
  "kernelspec": {
   "display_name": "Python 3",
   "language": "python",
   "name": "python3"
  },
  "language_info": {
   "codemirror_mode": {
    "name": "ipython",
    "version": 3
   },
   "file_extension": ".py",
   "mimetype": "text/x-python",
   "name": "python",
   "nbconvert_exporter": "python",
   "pygments_lexer": "ipython3",
   "version": "3.8.5"
  }
 },
 "nbformat": 4,
 "nbformat_minor": 4
}
